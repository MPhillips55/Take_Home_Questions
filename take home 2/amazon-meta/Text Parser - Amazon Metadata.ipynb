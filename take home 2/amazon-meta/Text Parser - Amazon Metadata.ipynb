{
 "cells": [
  {
   "cell_type": "code",
   "execution_count": 1,
   "metadata": {
    "collapsed": true
   },
   "outputs": [],
   "source": [
    "import pandas as pd\n",
    "import matplotlib.pyplot as plt\n",
    "import seaborn as sns\n",
    "import numpy as np\n",
    "from scipy import stats\n",
    "%matplotlib inline"
   ]
  },
  {
   "cell_type": "code",
   "execution_count": null,
   "metadata": {
    "collapsed": false
   },
   "outputs": [],
   "source": [
    "amazon_dict = {}\n",
    "reviews_dict = []\n",
    "categ_dict = []\n",
    "temp_dict = {}\n",
    "\n",
    "with open('amazon-meta.txt', encoding='utf8') as f:\n",
    "    for i in f:\n",
    "        line = i.split()\n",
    "        if line:  \n",
    "            if line[0] == 'Id:': \n",
    "                temp_dict = {}\n",
    "                iden = ''.join(line)\n",
    "            elif line[0] == 'ASIN:':\n",
    "                temp_dict[line[0]] = ''.join(line[1:])\n",
    "        \n",
    "            elif line[0] == 'title:':\n",
    "                temp_dict[line[0]] = ' '.join(line[1:])\n",
    "        \n",
    "            elif line[0] == 'group:':\n",
    "                temp_dict[line[0]] = ''.join(line[1:])\n",
    "        \n",
    "            elif line[0] == 'salesrank:':\n",
    "                temp_dict[line[0]] = ''.join(line[1:])\n",
    "        \n",
    "            elif line[0] == 'similar:':\n",
    "                temp_dict[line[0]] = ' '.join(line[3:])\n",
    "        \n",
    "            elif line[0] == 'categories:':\n",
    "                b = 0\n",
    "                number_cat = int(''.join(line[1:]))\n",
    "                categ_list = {}\n",
    "                while b < number_cat:\n",
    "                    line3 = f.readline().split('|')\n",
    "                    c = 0 \n",
    "                    while c < len(line3):\n",
    "                        temp_cat = line3[c].split('[')\n",
    "                        try:\n",
    "                            categ_list['id'] = iden\n",
    "                            categ_list[temp_cat[0]] = int((''.join(temp_cat[1:])).replace(']',''))\n",
    "                        except:\n",
    "                            pass\n",
    "                        c += 1\n",
    "                    b += 1\n",
    "                temp_dict[line[0]] = int(''.join(line[1:]))\n",
    "                categ_dict.append(categ_list)\n",
    "            elif line[0] == 'reviews:':\n",
    "                a = 0\n",
    "                temp_list = []        \n",
    "                number_rev = int((''.join(line[2:3])))\n",
    "                while a < number_rev:\n",
    "                    review_list = {}\n",
    "                    line2 = f.readline().strip()\n",
    "                    line2 = line2.split()\n",
    "                    try:\n",
    "                        review_list[line2[1]] = (''.join([line2[2]]))\n",
    "                        review_list['id'] = iden\n",
    "                        review_list[line2[3]] = int(''.join([line2[4]]))\n",
    "                        review_list[line2[5]] = int(''.join([line2[6]]))\n",
    "                        review_list[line2[7]] = int(''.join([line2[8]]))\n",
    "                        a += 1\n",
    "                        reviews_dict.append(review_list)\n",
    "                    except:\n",
    "                        pass         \n",
    "            else:\n",
    "                pass\n",
    "            try:\n",
    "                amazon_dict[iden] = temp_dict\n",
    "            except:\n",
    "                pass\n",
    "        else:\n",
    "            pass\n",
    "            "
   ]
  },
  {
   "cell_type": "code",
   "execution_count": null,
   "metadata": {
    "collapsed": false
   },
   "outputs": [],
   "source": [
    "categ_dict"
   ]
  },
  {
   "cell_type": "code",
   "execution_count": null,
   "metadata": {
    "collapsed": false
   },
   "outputs": [],
   "source": [
    "amazon_dict"
   ]
  },
  {
   "cell_type": "code",
   "execution_count": null,
   "metadata": {
    "collapsed": false
   },
   "outputs": [],
   "source": [
    "df1 = pd.DataFrame.from_dict(reviews_dict, orient='index')\n",
    "df1.reset_index(inplace=True)\n",
    "df1.head()"
   ]
  },
  {
   "cell_type": "code",
   "execution_count": null,
   "metadata": {
    "collapsed": false
   },
   "outputs": [],
   "source": [
    "df5 = pd.DataFrame(reviews_dict)\n",
    "#f5 = df5.transpose()\n",
    "df5.head()"
   ]
  },
  {
   "cell_type": "code",
   "execution_count": null,
   "metadata": {
    "collapsed": false
   },
   "outputs": [],
   "source": [
    "df5.to_csv('reviews.csv')"
   ]
  },
  {
   "cell_type": "code",
   "execution_count": null,
   "metadata": {
    "collapsed": false
   },
   "outputs": [],
   "source": [
    "df = pd.DataFrame.from_dict(amazon_dict, orient='index')\n",
    "df.head(20)"
   ]
  },
  {
   "cell_type": "code",
   "execution_count": null,
   "metadata": {
    "collapsed": true
   },
   "outputs": [],
   "source": [
    "df.to_csv('amazon_df.csv', encoding='utf-8')"
   ]
  },
  {
   "cell_type": "code",
   "execution_count": 5,
   "metadata": {
    "collapsed": false
   },
   "outputs": [],
   "source": [
    "amazon_dict = {}\n",
    "reviews_dict = []\n",
    "categ_dict = []\n",
    "temp_dict = {}\n",
    "with open('amazon-meta.txt', encoding='utf8') as f:\n",
    "    even_check = 0\n",
    "    for i in f:\n",
    "        #print(i)\n",
    "        line = i.split()\n",
    "        if line:  \n",
    "            #print(line)\n",
    "            if line[0] == 'Id:': \n",
    "                temp_dict = {}\n",
    "                iden = ''.join(line)\n",
    "                #amazon_dict[iden] = []\n",
    "            elif line[0] == 'ASIN:':\n",
    "                #temp_dict = {}\n",
    "                temp_dict[line[0]] = ''.join(line[1:])\n",
    "                #print(temp_dict)\n",
    "                #amazon_dict[iden].append(temp_dict)\n",
    "                #print(amazon_dict)\n",
    "            elif line[0] == 'title:':\n",
    "                #temp_dict = {}\n",
    "                temp_dict[line[0]] = ' '.join(line[1:])\n",
    "                #amazon_dict[iden].append(temp_dict)\n",
    "            elif line[0] == 'group:':\n",
    "                #temp_dict = {}\n",
    "                temp_dict[line[0]] = ''.join(line[1:])\n",
    "                #amazon_dict[iden].append(temp_dict)\n",
    "            elif line[0] == 'salesrank:':\n",
    "                #temp_dict = {}\n",
    "                temp_dict[line[0]] = ''.join(line[1:])\n",
    "                #amazon_dict[iden].append(temp_dict)\n",
    "            elif line[0] == 'similar:':\n",
    "                #temp_dict = {}\n",
    "                temp_dict[line[0]] = ' '.join(line[3:])\n",
    "                #amazon_dict[iden].append(temp_dict)\n",
    "            elif line[0] == 'categories:':\n",
    "                b = 0\n",
    "                number_cat = int(''.join(line[1:]))\n",
    "                categ_list = {}\n",
    "                while b < number_cat:\n",
    "                    line3 = f.readline().split('|')\n",
    "                    c = 0\n",
    "\n",
    "                    \n",
    "                    while c < len(line3):\n",
    "\n",
    "                        temp_cat = line3[c].split('[')\n",
    "\n",
    "                        try:\n",
    "                            categ_list['id'] = iden\n",
    "                            #print(temp_cat[0])\n",
    "                            categ_list[temp_cat[0]] = int((''.join(temp_cat[1:])).replace(']',''))\n",
    "                    \n",
    "                        except:\n",
    "                            pass\n",
    "\n",
    "                        c += 1\n",
    "                               \n",
    "                    b += 1\n",
    "                \n",
    "                if even_check%10 == 0:\n",
    "                    \n",
    "                    if 'Books' in categ_list:\n",
    "                        even_check +=1\n",
    "                        #print(even_check)\n",
    "                        temp_dict[line[0]] = int(''.join(line[1:]))\n",
    "\n",
    "                        categ_dict.append(categ_list)\n",
    "                        \n",
    "                else:\n",
    "                    #print(even_check)\n",
    "                    even_check +=1\n",
    "                    pass\n",
    "\n",
    "            elif line[0] == 'reviews:':\n",
    "                a = 0\n",
    "                temp_list = []\n",
    "                #review_list = {}\n",
    "                number_rev = int((''.join(line[2:3])))\n",
    "                while a < number_rev:\n",
    "                    review_list = {}\n",
    "                    line2 = f.readline().strip()\n",
    "                    line2 = line2.split()\n",
    "                    try:\n",
    "                        review_list[line2[1]] = (''.join([line2[2]]))\n",
    "                        review_list['id'] = iden\n",
    "                        review_list[line2[3]] = int(''.join([line2[4]]))\n",
    "                        review_list[line2[5]] = int(''.join([line2[6]]))\n",
    "                        review_list[line2[7]] = int(''.join([line2[8]]))\n",
    "                        a += 1\n",
    "                        reviews_dict.append(review_list)\n",
    "                    except:\n",
    "                        pass\n",
    "           \n",
    "\n",
    "            else:\n",
    "                pass\n",
    "            try:\n",
    "                amazon_dict[iden] = temp_dict\n",
    "            except:\n",
    "                pass\n",
    "\n",
    "        else:\n",
    "            pass"
   ]
  },
  {
   "cell_type": "code",
   "execution_count": 6,
   "metadata": {
    "collapsed": false
   },
   "outputs": [],
   "source": [
    "df = pd.DataFrame.from_records(categ_dict)\n"
   ]
  },
  {
   "cell_type": "code",
   "execution_count": 3,
   "metadata": {
    "collapsed": false
   },
   "outputs": [
    {
     "data": {
      "text/plain": [
       "49214"
      ]
     },
     "execution_count": 3,
     "metadata": {},
     "output_type": "execute_result"
    }
   ],
   "source": [
    "len(categ_dict)"
   ]
  },
  {
   "cell_type": "code",
   "execution_count": null,
   "metadata": {
    "collapsed": false
   },
   "outputs": [],
   "source": [
    "categ_dict"
   ]
  },
  {
   "cell_type": "code",
   "execution_count": 5,
   "metadata": {
    "collapsed": false
   },
   "outputs": [
    {
     "data": {
      "text/plain": [
       "(49214, 6452)"
      ]
     },
     "execution_count": 5,
     "metadata": {},
     "output_type": "execute_result"
    }
   ],
   "source": [
    "df.shape"
   ]
  },
  {
   "cell_type": "code",
   "execution_count": 7,
   "metadata": {
    "collapsed": true
   },
   "outputs": [],
   "source": [
    "df.to_csv('categ.csv',encoding='utf-8')"
   ]
  },
  {
   "cell_type": "code",
   "execution_count": 8,
   "metadata": {
    "collapsed": false
   },
   "outputs": [],
   "source": [
    "df = pd.read_csv('categ.csv', encoding='utf-8')\n"
   ]
  },
  {
   "cell_type": "code",
   "execution_count": 9,
   "metadata": {
    "collapsed": false
   },
   "outputs": [
    {
     "data": {
      "text/plain": [
       "Unnamed: 0                   0\n",
       "Unnamed: 1               40872\n",
       "( A )                    48944\n",
       "( A-C )                  49169\n",
       "( B )                    48739\n",
       "( C )                    48755\n",
       "( D )                    48936\n",
       "( D-F )                  49200\n",
       "( E )                    49106\n",
       "( F )                    49060\n",
       "( G )                    48956\n",
       "( G-I )                  49187\n",
       "( H )                    48891\n",
       "( I )                    49176\n",
       "( J )                    49052\n",
       "( J-L )                  49197\n",
       "( K )                    48973\n",
       "( L )                    48924\n",
       "( M )                    48802\n",
       "( M-O )                  49185\n",
       "( N )                    49116\n",
       "( O )                    49135\n",
       "( P )                    48937\n",
       "( P-R )                  49179\n",
       "( Q )                    49209\n",
       "( R )                    48992\n",
       "( S )                    48661\n",
       "( S-U )                  49198\n",
       "( T )                    49048\n",
       "( U )                    49207\n",
       "                         ...  \n",
       "Yucatan Peninsula        49211\n",
       "Yugoslavia               49205\n",
       "Zahn, Timothy            49212\n",
       "Zambia                   49213\n",
       "Zebra Bouquet            49213\n",
       "Zebra Regency Romance    49212\n",
       "Zelazny, Roger           49211\n",
       "Zelinsky, Paul O.        49212\n",
       "Zeman, Ludmila           49213\n",
       "Zen                      49172\n",
       "Zen Philosophy           49185\n",
       "Zettel, Sarah            49210\n",
       "Ziglar, Zig              49205\n",
       "Zimbabwe                 49211\n",
       "Zindel, Paul             49210\n",
       "Zohar                    49212\n",
       "Zola, Emile              49211\n",
       "Zoology                  49132\n",
       "Zoos                     49194\n",
       "Zoroastrianism           49213\n",
       "Zukav, Gary              49211\n",
       "Zwerger, Lisbeth         49213\n",
       "cummings, e.e.           49212\n",
       "hooks, bell              49213\n",
       "i-Net+                   49211\n",
       "id                           0\n",
       "jp-unknown1              48741\n",
       "jp-unknown2              48823\n",
       "jp-unknown3              49025\n",
       "van Kampen, Vlasta       49213\n",
       "Length: 6453, dtype: int64"
      ]
     },
     "execution_count": 9,
     "metadata": {},
     "output_type": "execute_result"
    }
   ],
   "source": [
    "df.isnull().sum()"
   ]
  },
  {
   "cell_type": "code",
   "execution_count": 11,
   "metadata": {
    "collapsed": false
   },
   "outputs": [
    {
     "data": {
      "text/plain": [
       "0    NaN\n",
       "1    NaN\n",
       "2    NaN\n",
       "3    NaN\n",
       "4    NaN\n",
       "5    NaN\n",
       "6    NaN\n",
       "7    NaN\n",
       "8    NaN\n",
       "9    NaN\n",
       "10   NaN\n",
       "11   NaN\n",
       "12   NaN\n",
       "13   NaN\n",
       "14   NaN\n",
       "15   NaN\n",
       "16   NaN\n",
       "17   NaN\n",
       "18   NaN\n",
       "19   NaN\n",
       "20   NaN\n",
       "21   NaN\n",
       "22   NaN\n",
       "23   NaN\n",
       "24   NaN\n",
       "25   NaN\n",
       "26   NaN\n",
       "27   NaN\n",
       "28   NaN\n",
       "29   NaN\n",
       "      ..\n",
       "70   NaN\n",
       "71   NaN\n",
       "72   NaN\n",
       "73   NaN\n",
       "74   NaN\n",
       "75   NaN\n",
       "76   NaN\n",
       "77   NaN\n",
       "78   NaN\n",
       "79   NaN\n",
       "80   NaN\n",
       "81   NaN\n",
       "82   NaN\n",
       "83   NaN\n",
       "84   NaN\n",
       "85   NaN\n",
       "86   NaN\n",
       "87   NaN\n",
       "88   NaN\n",
       "89   NaN\n",
       "90   NaN\n",
       "91   NaN\n",
       "92   NaN\n",
       "93   NaN\n",
       "94   NaN\n",
       "95   NaN\n",
       "96   NaN\n",
       "97   NaN\n",
       "98   NaN\n",
       "99   NaN\n",
       "Name: Zola, Emile, Length: 100, dtype: float64"
      ]
     },
     "execution_count": 11,
     "metadata": {},
     "output_type": "execute_result"
    }
   ],
   "source": [
    "df['Zola, Emile'].head(100)"
   ]
  },
  {
   "cell_type": "code",
   "execution_count": 12,
   "metadata": {
    "collapsed": false
   },
   "outputs": [
    {
     "data": {
      "text/plain": [
       "(49214, 6453)"
      ]
     },
     "execution_count": 12,
     "metadata": {},
     "output_type": "execute_result"
    }
   ],
   "source": [
    "df.shape"
   ]
  },
  {
   "cell_type": "code",
   "execution_count": null,
   "metadata": {
    "collapsed": true
   },
   "outputs": [],
   "source": []
  }
 ],
 "metadata": {
  "anaconda-cloud": {},
  "kernelspec": {
   "display_name": "Python [conda env:py3DataScience]",
   "language": "python",
   "name": "conda-env-py3DataScience-py"
  },
  "language_info": {
   "codemirror_mode": {
    "name": "ipython",
    "version": 3
   },
   "file_extension": ".py",
   "mimetype": "text/x-python",
   "name": "python",
   "nbconvert_exporter": "python",
   "pygments_lexer": "ipython3",
   "version": "3.5.3"
  }
 },
 "nbformat": 4,
 "nbformat_minor": 1
}
