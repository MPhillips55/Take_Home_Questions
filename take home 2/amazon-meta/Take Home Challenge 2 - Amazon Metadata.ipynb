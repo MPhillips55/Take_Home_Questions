{
 "cells": [
  {
   "cell_type": "markdown",
   "metadata": {},
   "source": [
    "# Take Home Challenge 2 - Amazon Metadata\n",
    "# Michael Phillips"
   ]
  },
  {
   "cell_type": "code",
   "execution_count": 1,
   "metadata": {
    "collapsed": true
   },
   "outputs": [],
   "source": [
    "import pandas as pd\n",
    "import matplotlib.pyplot as plt\n",
    "import seaborn as sns\n",
    "import numpy as np\n",
    "from scipy import stats\n",
    "%matplotlib inline"
   ]
  },
  {
   "cell_type": "code",
   "execution_count": 10,
   "metadata": {
    "collapsed": false
   },
   "outputs": [
    {
     "data": {
      "text/html": [
       "<div>\n",
       "<style>\n",
       "    .dataframe thead tr:only-child th {\n",
       "        text-align: right;\n",
       "    }\n",
       "\n",
       "    .dataframe thead th {\n",
       "        text-align: left;\n",
       "    }\n",
       "\n",
       "    .dataframe tbody tr th {\n",
       "        vertical-align: top;\n",
       "    }\n",
       "</style>\n",
       "<table border=\"1\" class=\"dataframe\">\n",
       "  <thead>\n",
       "    <tr style=\"text-align: right;\">\n",
       "      <th></th>\n",
       "      <th>categories:</th>\n",
       "      <th>ASIN:</th>\n",
       "      <th>group:</th>\n",
       "      <th>similar:</th>\n",
       "      <th>title:</th>\n",
       "      <th>salesrank:</th>\n",
       "    </tr>\n",
       "  </thead>\n",
       "  <tbody>\n",
       "    <tr>\n",
       "      <th>Id:0</th>\n",
       "      <td>NaN</td>\n",
       "      <td>0771044445</td>\n",
       "      <td>NaN</td>\n",
       "      <td>NaN</td>\n",
       "      <td>NaN</td>\n",
       "      <td>NaN</td>\n",
       "    </tr>\n",
       "    <tr>\n",
       "      <th>Id:1</th>\n",
       "      <td>2.0</td>\n",
       "      <td>0827229534</td>\n",
       "      <td>Book</td>\n",
       "      <td>156101074X 0687023955 0687074231 082721619X</td>\n",
       "      <td>Patterns of Preaching: A Sermon Sampler</td>\n",
       "      <td>396585.0</td>\n",
       "    </tr>\n",
       "    <tr>\n",
       "      <th>Id:10</th>\n",
       "      <td>3.0</td>\n",
       "      <td>0375709363</td>\n",
       "      <td>Book</td>\n",
       "      <td>0679730672 0679750541 1400030668 0896086704</td>\n",
       "      <td>The Edward Said Reader</td>\n",
       "      <td>220379.0</td>\n",
       "    </tr>\n",
       "    <tr>\n",
       "      <th>Id:100</th>\n",
       "      <td>2.0</td>\n",
       "      <td>0787958743</td>\n",
       "      <td>Book</td>\n",
       "      <td>0397554168 1560535253 0875847471 0787955965</td>\n",
       "      <td>Guide to Effective Staff Development in Health...</td>\n",
       "      <td>783690.0</td>\n",
       "    </tr>\n",
       "    <tr>\n",
       "      <th>Id:10000</th>\n",
       "      <td>3.0</td>\n",
       "      <td>1589600282</td>\n",
       "      <td>Book</td>\n",
       "      <td>NaN</td>\n",
       "      <td>Exposition of Paul's Epistles</td>\n",
       "      <td>1544234.0</td>\n",
       "    </tr>\n",
       "  </tbody>\n",
       "</table>\n",
       "</div>"
      ],
      "text/plain": [
       "          categories:       ASIN: group:  \\\n",
       "Id:0              NaN  0771044445    NaN   \n",
       "Id:1              2.0  0827229534   Book   \n",
       "Id:10             3.0  0375709363   Book   \n",
       "Id:100            2.0  0787958743   Book   \n",
       "Id:10000          3.0  1589600282   Book   \n",
       "\n",
       "                                             similar:  \\\n",
       "Id:0                                              NaN   \n",
       "Id:1      156101074X 0687023955 0687074231 082721619X   \n",
       "Id:10     0679730672 0679750541 1400030668 0896086704   \n",
       "Id:100    0397554168 1560535253 0875847471 0787955965   \n",
       "Id:10000                                          NaN   \n",
       "\n",
       "                                                     title:  salesrank:  \n",
       "Id:0                                                    NaN         NaN  \n",
       "Id:1                Patterns of Preaching: A Sermon Sampler    396585.0  \n",
       "Id:10                                The Edward Said Reader    220379.0  \n",
       "Id:100    Guide to Effective Staff Development in Health...    783690.0  \n",
       "Id:10000                      Exposition of Paul's Epistles   1544234.0  "
      ]
     },
     "execution_count": 10,
     "metadata": {},
     "output_type": "execute_result"
    }
   ],
   "source": [
    "df = pd.read_csv('amazon_df.csv', encoding='utf-8', index_col=0)\n",
    "df.head()"
   ]
  },
  {
   "cell_type": "code",
   "execution_count": 12,
   "metadata": {
    "collapsed": false
   },
   "outputs": [
    {
     "name": "stderr",
     "output_type": "stream",
     "text": [
      "C:\\Users\\Mike\\Anaconda2\\envs\\py3DataScience\\lib\\site-packages\\numpy\\lib\\arraysetops.py:395: FutureWarning: elementwise comparison failed; returning scalar instead, but in the future will perform elementwise comparison\n",
      "  mask |= (ar1 == a)\n"
     ]
    },
    {
     "data": {
      "text/html": [
       "<div>\n",
       "<style>\n",
       "    .dataframe thead tr:only-child th {\n",
       "        text-align: right;\n",
       "    }\n",
       "\n",
       "    .dataframe thead th {\n",
       "        text-align: left;\n",
       "    }\n",
       "\n",
       "    .dataframe tbody tr th {\n",
       "        vertical-align: top;\n",
       "    }\n",
       "</style>\n",
       "<table border=\"1\" class=\"dataframe\">\n",
       "  <thead>\n",
       "    <tr style=\"text-align: right;\">\n",
       "      <th></th>\n",
       "      <th>cutomer:</th>\n",
       "      <th>helpful:</th>\n",
       "      <th>id</th>\n",
       "      <th>rating:</th>\n",
       "      <th>votes:</th>\n",
       "    </tr>\n",
       "  </thead>\n",
       "  <tbody>\n",
       "    <tr>\n",
       "      <th>0</th>\n",
       "      <td>A2JW67OY8U6HHK</td>\n",
       "      <td>9</td>\n",
       "      <td>Id:1</td>\n",
       "      <td>5</td>\n",
       "      <td>10</td>\n",
       "    </tr>\n",
       "    <tr>\n",
       "      <th>1</th>\n",
       "      <td>A2VE83MZF98ITY</td>\n",
       "      <td>5</td>\n",
       "      <td>Id:1</td>\n",
       "      <td>5</td>\n",
       "      <td>6</td>\n",
       "    </tr>\n",
       "    <tr>\n",
       "      <th>2</th>\n",
       "      <td>A11NCO6YTE4BTJ</td>\n",
       "      <td>4</td>\n",
       "      <td>Id:2</td>\n",
       "      <td>5</td>\n",
       "      <td>5</td>\n",
       "    </tr>\n",
       "    <tr>\n",
       "      <th>3</th>\n",
       "      <td>A9CQ3PLRNIR83</td>\n",
       "      <td>5</td>\n",
       "      <td>Id:2</td>\n",
       "      <td>4</td>\n",
       "      <td>5</td>\n",
       "    </tr>\n",
       "    <tr>\n",
       "      <th>4</th>\n",
       "      <td>A13SG9ACZ9O5IM</td>\n",
       "      <td>8</td>\n",
       "      <td>Id:2</td>\n",
       "      <td>5</td>\n",
       "      <td>8</td>\n",
       "    </tr>\n",
       "  </tbody>\n",
       "</table>\n",
       "</div>"
      ],
      "text/plain": [
       "         cutomer:  helpful:    id  rating:  votes:\n",
       "0  A2JW67OY8U6HHK         9  Id:1        5      10\n",
       "1  A2VE83MZF98ITY         5  Id:1        5       6\n",
       "2  A11NCO6YTE4BTJ         4  Id:2        5       5\n",
       "3   A9CQ3PLRNIR83         5  Id:2        4       5\n",
       "4  A13SG9ACZ9O5IM         8  Id:2        5       8"
      ]
     },
     "execution_count": 12,
     "metadata": {},
     "output_type": "execute_result"
    }
   ],
   "source": [
    "df2 = pd.read_csv('reviews.csv', encoding='utf-8', index_col=0)\n",
    "df2.head()"
   ]
  },
  {
   "cell_type": "code",
   "execution_count": 13,
   "metadata": {
    "collapsed": false
   },
   "outputs": [
    {
     "data": {
      "text/plain": [
       "(526201, 6)"
      ]
     },
     "execution_count": 13,
     "metadata": {},
     "output_type": "execute_result"
    }
   ],
   "source": [
    "df.shape"
   ]
  },
  {
   "cell_type": "code",
   "execution_count": 14,
   "metadata": {
    "collapsed": false
   },
   "outputs": [
    {
     "data": {
      "text/plain": [
       "(7440046, 5)"
      ]
     },
     "execution_count": 14,
     "metadata": {},
     "output_type": "execute_result"
    }
   ],
   "source": [
    "df2.shape"
   ]
  },
  {
   "cell_type": "code",
   "execution_count": 15,
   "metadata": {
    "collapsed": false
   },
   "outputs": [
    {
     "data": {
      "image/png": "[encoded data removed]",
      "text/plain": [
       "<matplotlib.figure.Figure at 0x1f14cc837f0>"
      ]
     },
     "metadata": {},
     "output_type": "display_data"
    }
   ],
   "source": [
    "df2.hist(column='rating:', bins=10, figsize=(12,10), alpha=0.75)\n",
    "plt.title(\"Histogram 'Product Rating'\", fontsize=20)\n",
    "plt.xlabel(\"Average Rating\", fontsize=18)\n",
    "plt.ylabel(\"Number of Observations\", fontsize=18);"
   ]
  },
  {
   "cell_type": "markdown",
   "metadata": {},
   "source": [
    "The ratings in this dataset were mostly 5's. I would attribute this to the idea that people are biased - they are more likely to spend time reviewing something if they feel strongly about it, as opposed to a product that merely served its purpose and nothing more."
   ]
  },
  {
   "cell_type": "code",
   "execution_count": 16,
   "metadata": {
    "collapsed": false
   },
   "outputs": [
    {
     "data": {
      "image/png": "[encoded data removed]",
      "text/plain": [
       "<matplotlib.figure.Figure at 0x1f1021ded30>"
      ]
     },
     "metadata": {},
     "output_type": "display_data"
    }
   ],
   "source": [
    "df2.hist(column='helpful:', bins=1000, figsize=(12,10),alpha=0.75)\n",
    "plt.title(\"Histogram 'Helpful Reviews'\", fontsize=20)\n",
    "plt.xlabel(\"Average Number of 'Helpful' Ratings\", fontsize=18)\n",
    "plt.ylabel(\"Number of Observations\", fontsize=18)\n",
    "plt.xlim(0,80);"
   ]
  },
  {
   "cell_type": "code",
   "execution_count": 17,
   "metadata": {
    "collapsed": false
   },
   "outputs": [
    {
     "data": {
      "text/plain": [
       "<matplotlib.text.Text at 0x1f100edea90>"
      ]
     },
     "execution_count": 17,
     "metadata": {},
     "output_type": "execute_result"
    },
    {
     "data": {
      "image/png": "[encoded data removed]",
      "text/plain": [
       "<matplotlib.figure.Figure at 0x1f15f41bcf8>"
      ]
     },
     "metadata": {},
     "output_type": "display_data"
    }
   ],
   "source": [
    "df['group:'].fillna('N/A', inplace=True)\n",
    "df['group:'].value_counts().plot(kind='bar', figsize=(12,10), alpha=0.75)\n",
    "plt.title(\"Value Counts of Product Group\", fontsize=20)\n",
    "plt.xlabel(\"Product Type\", fontsize=18)\n",
    "plt.ylabel(\"Number of Occurences\", fontsize=18)"
   ]
  },
  {
   "cell_type": "code",
   "execution_count": 19,
   "metadata": {
    "collapsed": true
   },
   "outputs": [],
   "source": [
    "df1 = pd.read_csv('categ.csv', encoding='utf-8', index_col=0)"
   ]
  },
  {
   "cell_type": "code",
   "execution_count": 20,
   "metadata": {
    "collapsed": false
   },
   "outputs": [
    {
     "data": {
      "text/plain": [
       "(49214, 6452)"
      ]
     },
     "execution_count": 20,
     "metadata": {},
     "output_type": "execute_result"
    }
   ],
   "source": [
    "df.shape"
   ]
  },
  {
   "cell_type": "code",
   "execution_count": null,
   "metadata": {
    "collapsed": true
   },
   "outputs": [],
   "source": []
  }
 ],
 "metadata": {
  "anaconda-cloud": {},
  "kernelspec": {
   "display_name": "Python [conda env:py3DataScience]",
   "language": "python",
   "name": "conda-env-py3DataScience-py"
  },
  "language_info": {
   "codemirror_mode": {
    "name": "ipython",
    "version": 3
   },
   "file_extension": ".py",
   "mimetype": "text/x-python",
   "name": "python",
   "nbconvert_exporter": "python",
   "pygments_lexer": "ipython3",
   "version": "3.5.3"
  }
 },
 "nbformat": 4,
 "nbformat_minor": 1
}
