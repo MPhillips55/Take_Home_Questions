{
 "cells": [
  {
   "cell_type": "code",
   "execution_count": 1,
   "metadata": {
    "collapsed": true
   },
   "outputs": [],
   "source": [
    "import pandas as pd"
   ]
  },
  {
   "cell_type": "code",
   "execution_count": 7,
   "metadata": {
    "collapsed": false
   },
   "outputs": [
    {
     "data": {
      "text/html": [
       "<div>\n",
       "<style>\n",
       "    .dataframe thead tr:only-child th {\n",
       "        text-align: right;\n",
       "    }\n",
       "\n",
       "    .dataframe thead th {\n",
       "        text-align: left;\n",
       "    }\n",
       "\n",
       "    .dataframe tbody tr th {\n",
       "        vertical-align: top;\n",
       "    }\n",
       "</style>\n",
       "<table border=\"1\" class=\"dataframe\">\n",
       "  <thead>\n",
       "    <tr style=\"text-align: right;\">\n",
       "      <th></th>\n",
       "      <th>Unnamed: 0</th>\n",
       "      <th>categories:</th>\n",
       "      <th>ASIN:</th>\n",
       "      <th>group:</th>\n",
       "      <th>similar:</th>\n",
       "      <th>title:</th>\n",
       "      <th>salesrank:</th>\n",
       "    </tr>\n",
       "  </thead>\n",
       "  <tbody>\n",
       "    <tr>\n",
       "      <th>0</th>\n",
       "      <td>Id:0</td>\n",
       "      <td>NaN</td>\n",
       "      <td>0771044445</td>\n",
       "      <td>NaN</td>\n",
       "      <td>NaN</td>\n",
       "      <td>NaN</td>\n",
       "      <td>NaN</td>\n",
       "    </tr>\n",
       "    <tr>\n",
       "      <th>1</th>\n",
       "      <td>Id:1</td>\n",
       "      <td>2.0</td>\n",
       "      <td>0827229534</td>\n",
       "      <td>Book</td>\n",
       "      <td>156101074X 0687023955 0687074231 082721619X</td>\n",
       "      <td>Patterns of Preaching: A Sermon Sampler</td>\n",
       "      <td>396585.0</td>\n",
       "    </tr>\n",
       "    <tr>\n",
       "      <th>2</th>\n",
       "      <td>Id:10</td>\n",
       "      <td>3.0</td>\n",
       "      <td>0375709363</td>\n",
       "      <td>Book</td>\n",
       "      <td>0679730672 0679750541 1400030668 0896086704</td>\n",
       "      <td>The Edward Said Reader</td>\n",
       "      <td>220379.0</td>\n",
       "    </tr>\n",
       "    <tr>\n",
       "      <th>3</th>\n",
       "      <td>Id:100</td>\n",
       "      <td>2.0</td>\n",
       "      <td>0787958743</td>\n",
       "      <td>Book</td>\n",
       "      <td>0397554168 1560535253 0875847471 0787955965</td>\n",
       "      <td>Guide to Effective Staff Development in Health...</td>\n",
       "      <td>783690.0</td>\n",
       "    </tr>\n",
       "    <tr>\n",
       "      <th>4</th>\n",
       "      <td>Id:10000</td>\n",
       "      <td>3.0</td>\n",
       "      <td>1589600282</td>\n",
       "      <td>Book</td>\n",
       "      <td>NaN</td>\n",
       "      <td>Exposition of Paul's Epistles</td>\n",
       "      <td>1544234.0</td>\n",
       "    </tr>\n",
       "  </tbody>\n",
       "</table>\n",
       "</div>"
      ],
      "text/plain": [
       "  Unnamed: 0  categories:       ASIN: group:  \\\n",
       "0       Id:0          NaN  0771044445    NaN   \n",
       "1       Id:1          2.0  0827229534   Book   \n",
       "2      Id:10          3.0  0375709363   Book   \n",
       "3     Id:100          2.0  0787958743   Book   \n",
       "4   Id:10000          3.0  1589600282   Book   \n",
       "\n",
       "                                      similar:  \\\n",
       "0                                          NaN   \n",
       "1  156101074X 0687023955 0687074231 082721619X   \n",
       "2  0679730672 0679750541 1400030668 0896086704   \n",
       "3  0397554168 1560535253 0875847471 0787955965   \n",
       "4                                          NaN   \n",
       "\n",
       "                                              title:  salesrank:  \n",
       "0                                                NaN         NaN  \n",
       "1            Patterns of Preaching: A Sermon Sampler    396585.0  \n",
       "2                             The Edward Said Reader    220379.0  \n",
       "3  Guide to Effective Staff Development in Health...    783690.0  \n",
       "4                      Exposition of Paul's Epistles   1544234.0  "
      ]
     },
     "execution_count": 7,
     "metadata": {},
     "output_type": "execute_result"
    }
   ],
   "source": [
    "df = pd.read_csv('amazon_df.csv', encoding='utf-8')\n",
    "df.head()"
   ]
  },
  {
   "cell_type": "code",
   "execution_count": 8,
   "metadata": {
    "collapsed": false
   },
   "outputs": [
    {
     "data": {
      "text/html": [
       "<div>\n",
       "<style>\n",
       "    .dataframe thead tr:only-child th {\n",
       "        text-align: right;\n",
       "    }\n",
       "\n",
       "    .dataframe thead th {\n",
       "        text-align: left;\n",
       "    }\n",
       "\n",
       "    .dataframe tbody tr th {\n",
       "        vertical-align: top;\n",
       "    }\n",
       "</style>\n",
       "<table border=\"1\" class=\"dataframe\">\n",
       "  <thead>\n",
       "    <tr style=\"text-align: right;\">\n",
       "      <th></th>\n",
       "      <th>Unnamed: 0</th>\n",
       "      <th>cutomer:</th>\n",
       "      <th>helpful:</th>\n",
       "      <th>id</th>\n",
       "      <th>rating:</th>\n",
       "      <th>votes:</th>\n",
       "    </tr>\n",
       "  </thead>\n",
       "  <tbody>\n",
       "    <tr>\n",
       "      <th>0</th>\n",
       "      <td>0</td>\n",
       "      <td>A2JW67OY8U6HHK</td>\n",
       "      <td>9</td>\n",
       "      <td>Id:1</td>\n",
       "      <td>5</td>\n",
       "      <td>10</td>\n",
       "    </tr>\n",
       "    <tr>\n",
       "      <th>1</th>\n",
       "      <td>1</td>\n",
       "      <td>A2VE83MZF98ITY</td>\n",
       "      <td>5</td>\n",
       "      <td>Id:1</td>\n",
       "      <td>5</td>\n",
       "      <td>6</td>\n",
       "    </tr>\n",
       "    <tr>\n",
       "      <th>2</th>\n",
       "      <td>2</td>\n",
       "      <td>A11NCO6YTE4BTJ</td>\n",
       "      <td>4</td>\n",
       "      <td>Id:2</td>\n",
       "      <td>5</td>\n",
       "      <td>5</td>\n",
       "    </tr>\n",
       "    <tr>\n",
       "      <th>3</th>\n",
       "      <td>3</td>\n",
       "      <td>A9CQ3PLRNIR83</td>\n",
       "      <td>5</td>\n",
       "      <td>Id:2</td>\n",
       "      <td>4</td>\n",
       "      <td>5</td>\n",
       "    </tr>\n",
       "    <tr>\n",
       "      <th>4</th>\n",
       "      <td>4</td>\n",
       "      <td>A13SG9ACZ9O5IM</td>\n",
       "      <td>8</td>\n",
       "      <td>Id:2</td>\n",
       "      <td>5</td>\n",
       "      <td>8</td>\n",
       "    </tr>\n",
       "  </tbody>\n",
       "</table>\n",
       "</div>"
      ],
      "text/plain": [
       "   Unnamed: 0        cutomer:  helpful:    id  rating:  votes:\n",
       "0           0  A2JW67OY8U6HHK         9  Id:1        5      10\n",
       "1           1  A2VE83MZF98ITY         5  Id:1        5       6\n",
       "2           2  A11NCO6YTE4BTJ         4  Id:2        5       5\n",
       "3           3   A9CQ3PLRNIR83         5  Id:2        4       5\n",
       "4           4  A13SG9ACZ9O5IM         8  Id:2        5       8"
      ]
     },
     "execution_count": 8,
     "metadata": {},
     "output_type": "execute_result"
    }
   ],
   "source": [
    "df2 = pd.read_csv('reviews.csv', encoding='utf-8')\n",
    "df2.head()"
   ]
  },
  {
   "cell_type": "code",
   "execution_count": null,
   "metadata": {
    "collapsed": true
   },
   "outputs": [],
   "source": []
  }
 ],
 "metadata": {
  "anaconda-cloud": {},
  "kernelspec": {
   "display_name": "Python [conda env:py3DataScience]",
   "language": "python",
   "name": "conda-env-py3DataScience-py"
  },
  "language_info": {
   "codemirror_mode": {
    "name": "ipython",
    "version": 3
   },
   "file_extension": ".py",
   "mimetype": "text/x-python",
   "name": "python",
   "nbconvert_exporter": "python",
   "pygments_lexer": "ipython3",
   "version": "3.5.3"
  }
 },
 "nbformat": 4,
 "nbformat_minor": 1
}
